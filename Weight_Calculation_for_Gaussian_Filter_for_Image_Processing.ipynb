{
  "nbformat": 4,
  "nbformat_minor": 0,
  "metadata": {
    "colab": {
      "provenance": [],
      "authorship_tag": "ABX9TyNG0marwzXIwk3aPLIrUdTK",
      "include_colab_link": true
    },
    "kernelspec": {
      "name": "python3",
      "display_name": "Python 3"
    },
    "language_info": {
      "name": "python"
    }
  },
  "cells": [
    {
      "cell_type": "markdown",
      "metadata": {
        "id": "view-in-github",
        "colab_type": "text"
      },
      "source": [
        "<a href=\"https://colab.research.google.com/github/AbdulHalimKhan/Image_Filtering/blob/main/Weight_Calculation_for_Gaussian_Filter_for_Image_Processing.ipynb\" target=\"_parent\"><img src=\"https://colab.research.google.com/assets/colab-badge.svg\" alt=\"Open In Colab\"/></a>"
      ]
    },
    {
      "cell_type": "code",
      "source": [
        "import numpy as np\n",
        "import math\n",
        "\n",
        "def gaussian(x, y, sigma):\n",
        "    \"\"\"Compute the value of a Gaussian function at position (x, y).\"\"\"\n",
        "    return 1 / (2 * math.pi * sigma ** 2) * math.exp(-(x ** 2 + y ** 2) / (2 * sigma ** 2))\n",
        "\n",
        "def generate_gaussian_filter(rows, cols, sigma):\n",
        "    \"\"\"Generate a Gaussian filter weight matrix.\"\"\"\n",
        "    center_x = rows // 2\n",
        "    center_y = cols // 2\n",
        "\n",
        "    weights = np.zeros((rows, cols))\n",
        "\n",
        "    for i in range(rows):\n",
        "        for j in range(cols):\n",
        "            x = i - center_x\n",
        "            y = j - center_y\n",
        "            weights[i][j] = gaussian(x, y, sigma)\n",
        "\n",
        "    # Normalize the weights explicitly\n",
        "    weights /= np.sum(weights)\n",
        "\n",
        "    return weights\n",
        "\n",
        "def main():\n",
        "    rows = int(input(\"Enter the number of rows: \"))\n",
        "    cols = int(input(\"Enter the number of columns: \"))\n",
        "    sigma = float(input(\"Enter the standard deviation (sigma) for the Gaussian filter: \"))\n",
        "\n",
        "    # Generate the Gaussian filter weight matrix\n",
        "    weights = generate_gaussian_filter(rows, cols, sigma)\n",
        "\n",
        "    print(\"Gaussian filter weight matrix:\")\n",
        "    print(weights)\n",
        "\n",
        "if __name__ == \"__main__\":\n",
        "    main()\n"
      ],
      "metadata": {
        "colab": {
          "base_uri": "https://localhost:8080/"
        },
        "id": "jurthcFgbIQ4",
        "outputId": "26d304b7-efe1-46b6-b82f-7f3ded5b45e5"
      },
      "execution_count": null,
      "outputs": [
        {
          "output_type": "stream",
          "name": "stdout",
          "text": [
            "Enter the number of rows: 3\n",
            "Enter the number of columns: 3\n",
            "Enter the standard deviation (sigma) for the Gaussian filter: 1\n",
            "Gaussian filter weight matrix:\n",
            "[[0.07511361 0.1238414  0.07511361]\n",
            " [0.1238414  0.20417996 0.1238414 ]\n",
            " [0.07511361 0.1238414  0.07511361]]\n"
          ]
        }
      ]
    },
    {
      "cell_type": "code",
      "source": [
        "import numpy as np\n",
        "import math\n",
        "\n",
        "def gaussian(x, y, sigma):\n",
        "    \"\"\"Compute the value of a Gaussian function at position (x, y).\"\"\"\n",
        "    return 1 / (2 * math.pi * sigma ** 2) * math.exp(-(x ** 2 + y ** 2) / (2 * sigma ** 2))\n",
        "\n",
        "def generate_gaussian_filter(rows, cols, sigma):\n",
        "    \"\"\"Generate a Gaussian filter weight matrix.\"\"\"\n",
        "    center_x = rows // 2\n",
        "    center_y = cols // 2\n",
        "\n",
        "    weights = np.zeros((rows, cols))\n",
        "\n",
        "    for i in range(rows):\n",
        "        for j in range(cols):\n",
        "            x = i - center_x\n",
        "            y = j - center_y\n",
        "            weights[i][j] = gaussian(x, y, sigma)\n",
        "\n",
        "    # Normalize the weights based on the minimum value\n",
        "    min_value = np.min(weights)\n",
        "    weights /= min_value\n",
        "\n",
        "    return weights\n",
        "\n",
        "def main():\n",
        "    rows = int(input(\"Enter the number of rows: \"))\n",
        "    cols = int(input(\"Enter the number of columns: \"))\n",
        "    sigma = float(input(\"Enter the standard deviation (sigma) for the Gaussian filter: \"))\n",
        "\n",
        "    # Generate the Gaussian filter weight matrix\n",
        "    weights = generate_gaussian_filter(rows, cols, sigma)\n",
        "\n",
        "    print(\"Gaussian filter weight matrix:\")\n",
        "    print(weights)\n",
        "\n",
        "if __name__ == \"__main__\":\n",
        "    main()\n"
      ],
      "metadata": {
        "colab": {
          "base_uri": "https://localhost:8080/"
        },
        "id": "a1OcAbsGbUck",
        "outputId": "01ad4c7a-7f16-4666-89fa-32bd14617da0"
      },
      "execution_count": null,
      "outputs": [
        {
          "output_type": "stream",
          "name": "stdout",
          "text": [
            "Enter the number of rows: 3\n",
            "Enter the number of columns: 3\n",
            "Enter the standard deviation (sigma) for the Gaussian filter: 1\n",
            "Gaussian filter weight matrix:\n",
            "[[1.         1.64872127 1.        ]\n",
            " [1.64872127 2.71828183 1.64872127]\n",
            " [1.         1.64872127 1.        ]]\n"
          ]
        }
      ]
    }
  ]
}